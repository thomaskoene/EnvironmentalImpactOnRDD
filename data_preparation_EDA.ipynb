{
 "cells": [
  {
   "cell_type": "code",
   "execution_count": 2,
   "id": "4c63cbb4-5c20-4bed-b026-5987b037e8b6",
   "metadata": {},
   "outputs": [],
   "source": [
    "# !pip install ultralyt\n",
    "# from ultralytics import YOLO\n",
    "import os\n",
    "import glob\n",
    "import pandas as pd\n",
    "import xml.etree.ElementTree as ET\n",
    "import matplotlib.pyplot as plt\n",
    "# import seaborn as sns\n",
    "import re\n",
    "import numpy as np\n",
    "\n",
    "from zipfile import ZipFile\n",
    "\n",
    "from os import listdir\n",
    "from os.path import isfile, join\n",
    "\n",
    "import shutil"
   ]
  },
  {
   "cell_type": "code",
   "execution_count": null,
   "id": "a9ea89d2-2e5e-45d4-afa1-115afede2e43",
   "metadata": {},
   "outputs": [],
   "source": [
    "# unzipping RDD2022 file\n",
    "with ZipFile(\"RDD2022.zip\", 'r') as zObject: \n",
    "    zObject.extractall(path=\"RDD2022\")"
   ]
  },
  {
   "cell_type": "code",
   "execution_count": 3,
   "id": "5bf76279-2d9f-4ac1-b6b4-83bc78492d31",
   "metadata": {},
   "outputs": [],
   "source": [
    "countries = ['China_Drone', 'China_MotorBike', 'Czech', 'India', 'Japan', 'Norway', 'United_States']"
   ]
  },
  {
   "cell_type": "code",
   "execution_count": null,
   "id": "3a759f57-d1bd-4bae-9ec8-360af50e1075",
   "metadata": {},
   "outputs": [],
   "source": [
    "# unzipping individual countries folders\n",
    "for country in countries:\n",
    "    with ZipFile(\"RDD2022/RDD2022_all_countries/\" + country + \".zip\", 'r') as zObject: \n",
    "        zObject.extractall(path=\"RDD2022/\" + country)"
   ]
  },
  {
   "cell_type": "code",
   "execution_count": 10,
   "id": "e62faad2-7d3e-496b-8a49-4861576e255f",
   "metadata": {},
   "outputs": [],
   "source": [
    "# copy all images to right folder\n",
    "for country in countries:\n",
    "    shutil.copytree(\"/gpfs/home5/tkoene/RDD2022/\" + country + \"/\"+ country + \"/train/images\", \"/gpfs/home5/tkoene/RDD2022/\" + country + \"/data/images/train\")"
   ]
  },
  {
   "cell_type": "code",
   "execution_count": 9,
   "id": "18b3d95e-733c-4894-abf0-ec794241186e",
   "metadata": {},
   "outputs": [],
   "source": [
    "# remove these folders\n",
    "# shutil.rmtree('RDD2022.Japan')\n",
    "# shutil.rmtree(\"/gpfs/home5/tkoene/RDD2022/Norway/data/images/train\")"
   ]
  },
  {
   "cell_type": "code",
   "execution_count": 5,
   "id": "8ee128bb-3ec3-4432-9082-a0e3d2a2ed0b",
   "metadata": {},
   "outputs": [],
   "source": [
    "# create function to get labels\n",
    "def xml_to_csv(path):\n",
    "    xml_list = []\n",
    "    for xml_file in glob.glob(path + '/*.xml'):\n",
    "        tree = ET.parse(xml_file)\n",
    "        root = tree.getroot()\n",
    "        for member in root.findall('object'):\n",
    "            bbx = member.find('bndbox')\n",
    "            xmin = float(bbx.find('xmin').text)\n",
    "            ymin = float(bbx.find('ymin').text)\n",
    "            xmax = float(bbx.find('xmax').text)\n",
    "            ymax = float(bbx.find('ymax').text)\n",
    "            label = member.find('name').text\n",
    "\n",
    "            value = (root.find('filename').text,\n",
    "                     int(root.find('size')[0].text),\n",
    "                     int(root.find('size')[1].text),\n",
    "                     label,\n",
    "                     xmin,\n",
    "                     ymin,\n",
    "                     xmax,\n",
    "                     ymax\n",
    "                     )\n",
    "            xml_list.append(value)\n",
    "    column_name = ['filename', 'width', 'height',\n",
    "                   'class', 'xmin', 'ymin', 'xmax', 'ymax']\n",
    "    xml_df = pd.DataFrame(xml_list, columns=column_name)\n",
    "    return xml_df"
   ]
  },
  {
   "cell_type": "code",
   "execution_count": 6,
   "id": "c67d7801-d243-492b-80db-a32501e0dfbf",
   "metadata": {},
   "outputs": [],
   "source": [
    "for country in countries: \n",
    "    xml_to_csv(\"/gpfs/home5/tkoene/RDD2022/\" + country + \"/\" + country + \"/train/annotations/xmls\").to_csv('RDD2022/' + country + '/labels_train.csv')"
   ]
  },
  {
   "cell_type": "code",
   "execution_count": 15,
   "id": "774698b5-79c5-4e54-9eb7-6742ab7e84a0",
   "metadata": {},
   "outputs": [
    {
     "name": "stdout",
     "output_type": "stream",
     "text": [
      "China_Drone 1     1426\n",
      "4     1263\n",
      "11     769\n",
      "6      293\n",
      "7       86\n",
      "0        3\n",
      "Name: class_int, dtype: int64\n",
      "China_MotorBike 1     2678\n",
      "4     1096\n",
      "6      641\n",
      "11     277\n",
      "7      235\n",
      "Name: class_int, dtype: int64\n",
      "Czech 1    988\n",
      "4    399\n",
      "7    197\n",
      "6    161\n",
      "Name: class_int, dtype: int64\n",
      "India 7     3187\n",
      "6     2021\n",
      "1     1555\n",
      "9     1062\n",
      "2      179\n",
      "4       68\n",
      "8       57\n",
      "5       45\n",
      "10      28\n",
      "3        1\n",
      "Name: class_int, dtype: int64\n",
      "Japan 6     6199\n",
      "1     4049\n",
      "9     3995\n",
      "4     3979\n",
      "10    3553\n",
      "7     2243\n",
      "8      736\n",
      "Name: class_int, dtype: int64\n",
      "Norway 1    8570\n",
      "4    1730\n",
      "6     468\n",
      "7     461\n",
      "Name: class_int, dtype: int64\n",
      "United_States 1    6750\n",
      "4    3295\n",
      "6     834\n",
      "7     135\n",
      "Name: class_int, dtype: int64\n"
     ]
    }
   ],
   "source": [
    "# set all labels in right format in the right folder\n",
    "for country in countries: \n",
    "    annotations = pd.read_csv('RDD2022/' + country + '/labels_train.csv')\n",
    "    annotations['x'] = (((annotations['xmax'] - annotations['xmin']) / 2) + annotations['xmin']) / annotations['width']\n",
    "    annotations['y'] = (((annotations['ymax'] - annotations['ymin']) / 2) + annotations['ymin']) / annotations['height']\n",
    "    annotations['rel_width'] = (annotations['xmax'] - annotations['xmin']) / annotations['width']\n",
    "    annotations['rel_height'] = (annotations['ymax'] - annotations['ymin']) / annotations['height']\n",
    "    \n",
    "    annotations['class_int'] = annotations['class']\n",
    "    annotations['class_int'].replace({\n",
    "        'Block crack': 0,\n",
    "        'D00': 1,\n",
    "        'D01': 2,\n",
    "        'D0w0': 3,\n",
    "        'D10': 4,\n",
    "        'D11': 5,\n",
    "        'D20': 6,\n",
    "        'D40': 7,\n",
    "        'D43': 8,\n",
    "        'D44': 9,\n",
    "        'D50': 10,\n",
    "        'Repair': 11, \n",
    "        None: 12}, inplace=True)\n",
    "    # print(country, annotations['class_int'].value_counts())\n",
    "\n",
    "    filenames = annotations.filename.unique()\n",
    "    for file in filenames:\n",
    "        labels = annotations[annotations['filename'] == file]\n",
    "        name = 'RDD2022/' + country + '/data/labels/train/' + str(file).replace('.jpg', '.txt')\n",
    "\n",
    "        np.savetxt(name, labels[['class_int', 'x', 'y', 'rel_width', 'rel_height']], fmt='%i %.6e %.6e %.6e %.6e')"
   ]
  },
  {
   "cell_type": "code",
   "execution_count": 14,
   "id": "66df3b89-da9b-46ec-b0ac-8f72e05d8139",
   "metadata": {},
   "outputs": [
    {
     "data": {
      "text/plain": [
       "1    6750\n",
       "4    3295\n",
       "6     834\n",
       "7     135\n",
       "Name: class_int, dtype: int64"
      ]
     },
     "execution_count": 14,
     "metadata": {},
     "output_type": "execute_result"
    }
   ],
   "source": [
    "annotations['class_int'].value_counts()"
   ]
  },
  {
   "cell_type": "code",
   "execution_count": 3,
   "id": "9f9f906b-f520-4d35-94b8-c135e915a864",
   "metadata": {},
   "outputs": [
    {
     "data": {
      "text/plain": [
       "'/gpfs/home5/tkoene/RDD2022/Czech/data/images/train'"
      ]
     },
     "execution_count": 3,
     "metadata": {},
     "output_type": "execute_result"
    }
   ],
   "source": []
  },
  {
   "cell_type": "code",
   "execution_count": 16,
   "id": "0969e5fc-5ed2-4958-b9d2-cddd534406de",
   "metadata": {},
   "outputs": [],
   "source": [
    "# import os\n",
    "\n",
    "# print(os.listdir())"
   ]
  },
  {
   "cell_type": "code",
   "execution_count": null,
   "id": "27b9e735-958b-4262-9c99-3b8382aece60",
   "metadata": {},
   "outputs": [],
   "source": []
  }
 ],
 "metadata": {
  "kernelspec": {
   "display_name": "Python 3 (ipykernel)",
   "language": "python",
   "name": "python3"
  },
  "language_info": {
   "codemirror_mode": {
    "name": "ipython",
    "version": 3
   },
   "file_extension": ".py",
   "mimetype": "text/x-python",
   "name": "python",
   "nbconvert_exporter": "python",
   "pygments_lexer": "ipython3",
   "version": "3.11.5"
  }
 },
 "nbformat": 4,
 "nbformat_minor": 5
}
